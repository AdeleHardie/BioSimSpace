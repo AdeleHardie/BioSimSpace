{
 "cells": [
  {
   "cell_type": "code",
   "execution_count": null,
   "id": "41ee84da",
   "metadata": {},
   "outputs": [],
   "source": [
    "import BioSimSpace as BSS\n",
    "import sys"
   ]
  },
  {
   "cell_type": "code",
   "execution_count": null,
   "id": "c7f4d07a",
   "metadata": {},
   "outputs": [],
   "source": [
    "# Initialise the node object\n",
    "node = BSS.Gateway.Node(\"Prepare a protein-ligand complex for MD simulations.\")\n",
    "# Set the node author and license.\n",
    "node.addAuthor(name=\"Julien Michel\",\n",
    "               email=\"julien.michel@ed.ac.uk\",\n",
    "               affiliation=\"University of Edinburgh\")\n",
    "node.setLicense(\"GPLv3\")\n",
    "\n",
    "### Set the node inputs\n",
    "node.addInput(\"ligand\", BSS.Gateway.FileSet(help=\"A 3D representation of a ligand.\"))\n",
    "node.addInput(\"protein\", BSS.Gateway.FileSet(help=\"A 3D representation of a protein.\"))\n",
    "\n",
    "node.addInput(\"ligandff\", BSS.Gateway.String(help=\"The forcefield to use to parameterise the ligand.\", \n",
    "                                             allowed=[\"gaff\",\"gaff2\",\"openff_unconstrained_2_0_0\"], \n",
    "                                             default=\"gaff2\"))\n",
    "node.addInput(\"waterff\", BSS.Gateway.String(help=\"The forcefield to use to parameterise water.\", \n",
    "                                             allowed=[\"spc\",\"spce\",\"tip3p\", \"tip4p\", \"tip5p\"], \n",
    "                                             default=\"tip3p\"))\n",
    "node.addInput(\"proteinff\", BSS.Gateway.String(help=\"The forcefield to use to parameterise proteins.\", \n",
    "                                             allowed=['ff03', 'ff14SB', 'ff99', 'ff99SB', 'ff99SBildn'], \n",
    "                                             default=\"ff14SB\"))\n",
    "node.addInput(\"ion_conc\", BSS.Gateway.Float(help=\"The concentration (in mol/L) of neutralising NaCl solution.\", \n",
    "                                            default=0.150))\n",
    "#node.addInput(\"boxtype\", BSS.Gateway.String(help=\"The shape of the periodic box\", \n",
    "#                                             allowed=['cubic', 'rhombicDodecahedronHexagon', 'rhombicDodecahedronSquare', 'truncatedOctahedron'],\n",
    "#                                             default=\"truncatedOctahedron\"))\n",
    "node.addInput(\"freeboxpadding\", BSS.Gateway.Length(help=\"The length of padding to add around the free ligand bounding .\",\n",
    "                                             default=20, unit=\"angstrom\"))\n",
    "node.addInput(\"boundboxpadding\", BSS.Gateway.Length(help=\"The length of padding to add around the protein-ligand complex bounding.\",\n",
    "                                             default=10, unit=\"angstrom\"))\n",
    "### Set the node outputs\n",
    "node.addOutput(\"free\", BSS.Gateway.FileSet(help=\"The solvated ligand system.\"))\n",
    "node.addOutput(\"bound\", BSS.Gateway.FileSet(help=\"The solvated protein-ligand complex.\"))"
   ]
  },
  {
   "cell_type": "code",
   "execution_count": null,
   "id": "2c218216",
   "metadata": {},
   "outputs": [],
   "source": [
    "node.showControls()"
   ]
  },
  {
   "cell_type": "code",
   "execution_count": null,
   "id": "6615e838",
   "metadata": {},
   "outputs": [],
   "source": [
    "#######################################\n",
    "### Load and parameterise the ligand ##\n",
    "#######################################\n",
    "lig = BSS.IO.readMolecules(node.getInput(\"ligand\"))[0]\n",
    "lig_p = BSS.Parameters.parameterise(lig, node.getInput(\"ligandff\")).getMolecule()"
   ]
  },
  {
   "cell_type": "code",
   "execution_count": null,
   "id": "63e6ff86",
   "metadata": {},
   "outputs": [],
   "source": [
    "########################################################\n",
    "### Work out bounding box for the ligand and solvate ###\n",
    "########################################################\n",
    "box_min, box_max = lig_p.getAxisAlignedBoundingBox()\n",
    "bounding_distances = [y - x for x, y in zip(box_min, box_max)]\n",
    "padded_distances = [x + node.getInput(\"freeboxpadding\") for x in bounding_distances]\n",
    "# Orthorhombic only \n",
    "box_angles = 3*[90 * BSS.Units.Angle.degree]\n",
    "lig_solvated = BSS.Solvent.solvate(node.getInput(\"waterff\"), molecule=lig_p, box=padded_distances, angles=box_angles, ion_conc=node.getInput(\"ion_conc\"))\n",
    "print (lig_p_solvated)"
   ]
  },
  {
   "cell_type": "code",
   "execution_count": null,
   "id": "f36f9cd4",
   "metadata": {},
   "outputs": [],
   "source": [
    "#######################################\n",
    "### Load and parameterise the protein ##\n",
    "#######################################\n",
    "protein = BSS.IO.readMolecules(node.getInput(\"protein\"))[0]\n",
    "prot_p = BSS.Parameters.parameterise(protein, node.getInput(\"proteinff\")).getMolecule()"
   ]
  },
  {
   "cell_type": "code",
   "execution_count": null,
   "id": "d8dd2d57",
   "metadata": {},
   "outputs": [],
   "source": [
    "# Combine ligand and protein topologies and solvate the complex #\n",
    "complex = lig_p + prot_p\n",
    "box_min, box_max = complex.getAxisAlignedBoundingBox()\n",
    "bounding_distances = [y - x for x, y in zip(box_min, box_max)]\n",
    "padded_distances = [x + node.getInput(\"boundboxpadding\") for x in bounding_distances]\n",
    "# Orthorhombic only \n",
    "box_angles = 3*[90 * BSS.Units.Angle.degree]\n",
    "complex_solvated = BSS.Solvent.solvate(node.getInput(\"waterff\"), molecule=complex, box=padded_distances, angles=box_angles, ion_conc=node.getInput(\"ion_conc\"))\n",
    "print (complex_solvated)"
   ]
  },
  {
   "cell_type": "code",
   "execution_count": null,
   "id": "f93ee112",
   "metadata": {},
   "outputs": [],
   "source": [
    "# Save systems\n",
    "node.setOutput(\"free\", BSS.IO.saveMolecules(\"free\", lig_solvated, ['PRM7','RST7'] ))\n",
    "node.setOutput(\"bound\", BSS.IO.saveMolecules(\"bound\", complex_solvated,['PRM7','RST7'] ))"
   ]
  },
  {
   "cell_type": "code",
   "execution_count": null,
   "id": "bb656187",
   "metadata": {},
   "outputs": [],
   "source": [
    "node.validate()"
   ]
  },
  {
   "cell_type": "code",
   "execution_count": null,
   "id": "8519d077",
   "metadata": {},
   "outputs": [],
   "source": []
  }
 ],
 "metadata": {
  "kernelspec": {
   "display_name": "Python 3 (ipykernel)",
   "language": "python",
   "name": "python3"
  },
  "language_info": {
   "codemirror_mode": {
    "name": "ipython",
    "version": 3
   },
   "file_extension": ".py",
   "mimetype": "text/x-python",
   "name": "python",
   "nbconvert_exporter": "python",
   "pygments_lexer": "ipython3",
   "version": "3.9.15"
  }
 },
 "nbformat": 4,
 "nbformat_minor": 5
}
