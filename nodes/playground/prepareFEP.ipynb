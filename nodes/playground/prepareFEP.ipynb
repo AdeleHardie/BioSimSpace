{
 "cells": [
  {
   "cell_type": "markdown",
   "metadata": {},
   "source": [
    "Author: Julien Michel\n",
    "\n",
    "email: julien.michel@ed.ac.uk"
   ]
  },
  {
   "cell_type": "markdown",
   "metadata": {},
   "source": [
    "# PrepareFEP\n",
    "Loads a pair of input files, perform mapping between the first molecule of each input. Write down input files for a SOMD FEP calculation."
   ]
  },
  {
   "cell_type": "code",
   "execution_count": null,
   "metadata": {},
   "outputs": [],
   "source": [
    "import BioSimSpace as BSS\n",
    "import os\n",
    "from Sire.Mol import AtomIdx"
   ]
  },
  {
   "cell_type": "code",
   "execution_count": null,
   "metadata": {},
   "outputs": [],
   "source": [
    "def writeLog(ligA, ligB, mapping):\n",
    "    \"\"\" Human readable report on atoms used for the mapping.\"\"\"\n",
    "    atoms_in_A = list(mapping.keys())\n",
    "    stream = open('somd.mapping','w')\n",
    "    atAdone = []\n",
    "    atBdone= []\n",
    "    for atAidx in atoms_in_A:\n",
    "        atA = ligA._sire_molecule.select(atAidx)\n",
    "        atB = ligB._sire_molecule.select(mapping[atAidx])\n",
    "        stream.write(\"%s %s --> %s %s\\n\" % (atA.index(), atA.name(),atB.index(), atB.name()))\n",
    "        atAdone.append(atA)\n",
    "        atBdone.append(atB)\n",
    "    for atom in ligA._sire_molecule.atoms():\n",
    "        if atom in atAdone:\n",
    "            continue\n",
    "        stream.write(\"%s %s --> dummy\\n\" % (atom.index(), atom.name()))\n",
    "    for atom in ligB._sire_molecule.atoms():\n",
    "        if atom in atBdone:\n",
    "            continue\n",
    "        stream.write(\"dummy --> %s %s\\n\" % (atom.index(), atom.name()))\n",
    "    stream.close()"
   ]
  },
  {
   "cell_type": "code",
   "execution_count": null,
   "metadata": {},
   "outputs": [],
   "source": [
    "node = BSS.Gateway.Node(\"A node to generate input files for a SOMD relative free energy calculation.\")"
   ]
  },
  {
   "cell_type": "code",
   "execution_count": null,
   "metadata": {},
   "outputs": [],
   "source": [
    "node.addAuthor(name=\"Julien Michel\", email=\"julien.michel@ed.ac.uk\", affiliation=\"University of Edinburgh\")\n",
    "node.setLicense(\"GPLv3\")"
   ]
  },
  {
   "cell_type": "code",
   "execution_count": null,
   "metadata": {},
   "outputs": [],
   "source": [
    "node.addInput(\"input1\", BSS.Gateway.FileSet(help=\"A topology and coordinates file\"))\n",
    "node.addInput(\"input2\", BSS.Gateway.FileSet(help=\"A topology and coordinates file\"))\n",
    "node.addInput(\"prematch\", BSS.Gateway.String(help=\"list of atom indices that are matched between input2 and input1. Syntax is of the format 1-3,4-8,9-11...\", default=\"\"))\n",
    "node.addInput(\"output\", BSS.Gateway.String(help=\"The root name for the files describing the perturbation input1->input2.\"))"
   ]
  },
  {
   "cell_type": "code",
   "execution_count": null,
   "metadata": {},
   "outputs": [],
   "source": [
    "node.addOutput(\"nodeoutput\", BSS.Gateway.FileSet(help=\"SOMD input files for a perturbation of input1->input2.\"))"
   ]
  },
  {
   "cell_type": "code",
   "execution_count": null,
   "metadata": {},
   "outputs": [],
   "source": [
    "node.showControls()"
   ]
  },
  {
   "cell_type": "code",
   "execution_count": null,
   "metadata": {},
   "outputs": [],
   "source": [
    "# Optional input, dictionary of Atom indices that should be matched in the search. \n",
    "prematch = {}\n",
    "prematchstring = node.getInput(\"prematch\")\n",
    "if len(prematchstring) > 0: \n",
    "    entries = prematchstring.split(\",\")\n",
    "    for entry in entries:\n",
    "        idxA, idxB = entry.split(\"-\")\n",
    "        prematch[ AtomIdx( int(idxA)) ] = AtomIdx( int(idxB) )\n",
    "#print (prematch)"
   ]
  },
  {
   "cell_type": "code",
   "execution_count": null,
   "metadata": {},
   "outputs": [],
   "source": [
    "# Load system 1\n",
    "system1 = BSS.IO.readMolecules(node.getInput(\"input1\"))"
   ]
  },
  {
   "cell_type": "code",
   "execution_count": null,
   "metadata": {},
   "outputs": [],
   "source": [
    "# Load system 2\n",
    "system2 = BSS.IO.readMolecules(node.getInput(\"input2\"))"
   ]
  },
  {
   "cell_type": "code",
   "execution_count": null,
   "metadata": {},
   "outputs": [],
   "source": [
    "# We assume the molecules to perturb are the first molecules in each system\n",
    "lig1 = system1.getMolecules()[0]\n",
    "lig2 = system2.getMolecules()[0]"
   ]
  },
  {
   "cell_type": "code",
   "execution_count": null,
   "metadata": {},
   "outputs": [],
   "source": [
    "# Return a maximum of 10 matches, scored by RMSD and sorted from best to worst.\n",
    "mappings = BSS.Align.matchAtoms(lig1, lig2, matches=10, prematch=prematch, scoring_function=\"RMSDalign\", timeout=10*BSS.Units.Time.second)\n",
    "# We retain the top mapping\n",
    "mapping = mappings[0]\n",
    "#print (len(mappings))\n",
    "#print (mappings)"
   ]
  },
  {
   "cell_type": "code",
   "execution_count": null,
   "metadata": {},
   "outputs": [],
   "source": [
    "print (mapping)"
   ]
  },
  {
   "cell_type": "code",
   "execution_count": null,
   "metadata": {},
   "outputs": [],
   "source": [
    "# Align lig1 to lig2 based on the best mapping. The molecule is aligned based\n",
    "# on a root mean squared displacement fit to find the optimal translation vector\n",
    "# (as opposed to merely taking the difference of centroids).\n",
    "lig1 = BSS.Align.rmsdAlign(lig1, lig2, mapping)\n",
    "# Merge the two ligands based on the mapping.\n",
    "merged = BSS.Align.merge(lig1, lig2, mapping)\n",
    "# Create a composite system\n",
    "system1.removeMolecules(lig1)\n",
    "system1.addMolecules(merged)"
   ]
  },
  {
   "cell_type": "code",
   "execution_count": null,
   "metadata": {},
   "outputs": [],
   "source": [
    "# Log the mapping used\n",
    "writeLog(lig1, lig2, mapping)\n",
    "BSS.IO.saveMolecules(\"merged_at_lam0.pdb\", merged, \"PDB\", { \"coordinates\" : \"coordinates0\" , \"element\": \"element0\" })\n",
    "# Generate package specific input\n",
    "protocol = BSS.Protocol.FreeEnergy(runtime = 2*BSS.Units.Time.femtosecond, num_lam=3)\n",
    "process = BSS.Process.Somd(system1, protocol)\n",
    "process.getOutput()\n",
    "cmd = \"unzip -o somd.zip\"\n",
    "os.system(cmd)"
   ]
  },
  {
   "cell_type": "code",
   "execution_count": null,
   "metadata": {},
   "outputs": [],
   "source": [
    "root = node.getInput(\"output\")\n",
    "mergedpdb = \"%s.mergeat0.pdb\" % root\n",
    "pert = \"%s.pert\" % root\n",
    "prm7 = \"%s.prm7\" % root\n",
    "rst7 = \"%s.rst7\" % root\n",
    "mapping_str = \"%s.mapping\" % root"
   ]
  },
  {
   "cell_type": "code",
   "execution_count": null,
   "metadata": {},
   "outputs": [],
   "source": [
    "cmd = \"mv merged_at_lam0.pdb %s ; mv somd.pert %s ; mv somd.prm7 %s ; mv somd.rst7 %s ; mv somd.mapping %s ; rm somd.zip ; rm somd.cfg ; rm somd.err; rm somd.out\" % (mergedpdb,pert,prm7,rst7,mapping_str)\n",
    "#print (cmd)\n",
    "os.system(cmd)"
   ]
  },
  {
   "cell_type": "code",
   "execution_count": null,
   "metadata": {},
   "outputs": [],
   "source": [
    "node.setOutput(\"nodeoutput\",[mergedpdb, pert, prm7, rst7, mapping_str])"
   ]
  },
  {
   "cell_type": "code",
   "execution_count": null,
   "metadata": {},
   "outputs": [],
   "source": [
    "node.validate()"
   ]
  },
  {
   "cell_type": "code",
   "execution_count": null,
   "metadata": {},
   "outputs": [],
   "source": []
  }
 ],
 "metadata": {
  "kernelspec": {
   "display_name": "Python 3",
   "language": "python",
   "name": "python3"
  },
  "language_info": {
   "codemirror_mode": {
    "name": "ipython",
    "version": 3
   },
   "file_extension": ".py",
   "mimetype": "text/x-python",
   "name": "python",
   "nbconvert_exporter": "python",
   "pygments_lexer": "ipython3",
   "version": "3.7.1"
  }
 },
 "nbformat": 4,
 "nbformat_minor": 2
}
