{
 "cells": [
  {
   "cell_type": "markdown",
   "metadata": {},
   "source": [
    "Author: Julien Michel\n",
    "\n",
    "email: julien.michel@ed.ac.uk"
   ]
  },
  {
   "cell_type": "markdown",
   "metadata": {},
   "source": [
    "# PrepareFEP\n",
    "Loads a pair of input files, perform mapping between the first molecule of each input. Write down input files for a SOMD FEP calculation."
   ]
  },
  {
   "cell_type": "code",
   "execution_count": 15,
   "metadata": {},
   "outputs": [],
   "source": [
    "import BioSimSpace as BSS\n",
    "import os"
   ]
  },
  {
   "cell_type": "code",
   "execution_count": 2,
   "metadata": {},
   "outputs": [
    {
     "name": "stdout",
     "output_type": "stream",
     "text": [
      "\n",
      "==============================================================\n",
      "Sending anonymous Sire usage statistics to http://siremol.org.\n",
      "For more information, see http://siremol.org/analytics\n",
      "To disable, set the environment variable 'SIRE_DONT_PHONEHOME' to 1\n",
      "To see the information sent, set the environment variable \n",
      "SIRE_VERBOSE_PHONEHOME equal to 1. To silence this message, set\n",
      "the environment variable SIRE_SILENT_PHONEHOME to 1.\n",
      "==============================================================\n",
      "\n"
     ]
    }
   ],
   "source": [
    "def writeLog(ligA, ligB, mapping):\n",
    "    \"\"\" Human readable report on atoms used for the mapping.\"\"\"\n",
    "    atoms_in_A = list(mapping.keys())\n",
    "    stream = open('somd.mapping','w')\n",
    "    for atAidx in atoms_in_A:\n",
    "        atA = ligA._sire_molecule.select(atAidx)\n",
    "        atB = ligB._sire_molecule.select(mapping[atAidx])\n",
    "        stream.write(\"%s --> %s\\n\" % (atA.name(),atB.name()))\n",
    "    stream.close()"
   ]
  },
  {
   "cell_type": "code",
   "execution_count": 3,
   "metadata": {},
   "outputs": [],
   "source": [
    "node = BSS.Gateway.Node(\"A node to generate input files for a SOMD relative free energy calculation.\")"
   ]
  },
  {
   "cell_type": "code",
   "execution_count": 4,
   "metadata": {},
   "outputs": [],
   "source": [
    "node.addAuthor(name=\"Julien Michel\", email=\"julien.michel@ed.ac.uk\", affiliation=\"University of Edinburgh\")\n",
    "node.setLicense(\"GPLv3\")"
   ]
  },
  {
   "cell_type": "code",
   "execution_count": 5,
   "metadata": {},
   "outputs": [],
   "source": [
    "node.addInput(\"input1\", BSS.Gateway.FileSet(help=\"A topology and coordinates file\"))\n",
    "node.addInput(\"input2\", BSS.Gateway.FileSet(help=\"A topology and coordinates file\"))\n",
    "node.addInput(\"output\", BSS.Gateway.String(help=\"The root name for the files describing the perturbation input1->input2.\"))"
   ]
  },
  {
   "cell_type": "code",
   "execution_count": 6,
   "metadata": {},
   "outputs": [],
   "source": [
    "# Optional input, dictionary of Atom indices that should be matched in the search. \n",
    "prematch = {}"
   ]
  },
  {
   "cell_type": "code",
   "execution_count": 7,
   "metadata": {},
   "outputs": [],
   "source": [
    "node.addOutput(\"nodeoutput\", BSS.Gateway.FileSet(help=\"SOMD input files for a perturbation of input1->input2.\"))"
   ]
  },
  {
   "cell_type": "code",
   "execution_count": 8,
   "metadata": {},
   "outputs": [
    {
     "data": {
      "application/vnd.jupyter.widget-view+json": {
       "model_id": "2a9af22f948046c5b545b132e241a77b",
       "version_major": 2,
       "version_minor": 0
      },
      "text/plain": [
       "Box(children=(Box(children=(Box(children=(Label(value='input1: A topology and coordinates file'), FileUploadWi…"
      ]
     },
     "metadata": {},
     "output_type": "display_data"
    },
    {
     "name": "stdout",
     "output_type": "stream",
     "text": [
      "Uploaded '12.prm7' (19.19 kB)\n",
      "Uploaded '12.rst7' (1.20 kB)\n",
      "Uploaded '14d.prm7' (18.08 kB)\n",
      "Uploaded '14d.rst7' (1.17 kB)\n"
     ]
    }
   ],
   "source": [
    "node.showControls()"
   ]
  },
  {
   "cell_type": "code",
   "execution_count": 9,
   "metadata": {},
   "outputs": [],
   "source": [
    "# Load system 1\n",
    "system1 = BSS.IO.readMolecules(node.getInput(\"input1\"))"
   ]
  },
  {
   "cell_type": "code",
   "execution_count": 10,
   "metadata": {},
   "outputs": [],
   "source": [
    "# Load system 2\n",
    "system2 = BSS.IO.readMolecules(node.getInput(\"input2\"))"
   ]
  },
  {
   "cell_type": "code",
   "execution_count": 11,
   "metadata": {},
   "outputs": [],
   "source": [
    "# We assume the molecules to perturb are the first molecules in each system\n",
    "lig1 = system1.getMolecules()[0]\n",
    "lig2 = system2.getMolecules()[0]"
   ]
  },
  {
   "cell_type": "code",
   "execution_count": 12,
   "metadata": {},
   "outputs": [],
   "source": [
    "# Return a maximum of 10 matches, scored by RMSD and sorted from best to worst.\n",
    "mappings = BSS.Align.matchAtoms(lig1, lig2, matches=10, prematch=prematch)\n",
    "# We retain the top mapping\n",
    "mapping = mappings[0]"
   ]
  },
  {
   "cell_type": "code",
   "execution_count": 13,
   "metadata": {},
   "outputs": [],
   "source": [
    "# Align lig2 to lig1 based on the best mapping. The molecule is aligned based\n",
    "# on a root mean squared displacement fit to find the optimal translation vector\n",
    "# (as opposed to merely taking the difference of centroids).\n",
    "lig2 = BSS.Align.rmsdAlign(lig2, lig1, mapping)\n",
    "# Merge the two ligands based on the mapping.\n",
    "merged = BSS.Align.merge(lig1, lig2, mapping)\n",
    "# Create a composite system\n",
    "system1.removeMolecules(lig1)\n",
    "system1.addMolecules(merged)"
   ]
  },
  {
   "cell_type": "code",
   "execution_count": 16,
   "metadata": {},
   "outputs": [
    {
     "name": "stderr",
     "output_type": "stream",
     "text": [
      "/home/julien/sire.app/lib/python3.5/site-packages/BioSimSpace-2018.1.1+752.gcd980f4-py3.5.egg/BioSimSpace/Process/_somd.py:250: UserWarning: No simulation box found. Assuming gas phase simulation.\n"
     ]
    },
    {
     "data": {
      "text/plain": [
       "0"
      ]
     },
     "execution_count": 16,
     "metadata": {},
     "output_type": "execute_result"
    }
   ],
   "source": [
    "# Log the mapping used\n",
    "writeLog(lig1, lig2, mapping)\n",
    "BSS.IO.saveMolecules(\"merged_at_lam0.pdb\", merged, \"PDB\", { \"coordinates\" : \"coordinates0\" , \"element\": \"element0\" })\n",
    "# Generate package specific input\n",
    "protocol = BSS.Protocol.FreeEnergy(runtime = 2*BSS.Units.Time.femtosecond, num_lam=3)\n",
    "process = BSS.Process.Somd(system1, protocol)\n",
    "process.getOutput()\n",
    "cmd = \"unzip -o somd.zip\"\n",
    "os.system(cmd)"
   ]
  },
  {
   "cell_type": "code",
   "execution_count": 20,
   "metadata": {},
   "outputs": [],
   "source": [
    "root = node.getInput(\"output\")\n",
    "mergedpdb = \"%s.mergeat0.pdb\" % root\n",
    "pert = \"%s.pert\" % root\n",
    "prm7 = \"%s.prm7\" % root\n",
    "rst7 = \"%s.rst7\" % root\n",
    "mapping = \"%s.mapping\" % root"
   ]
  },
  {
   "cell_type": "code",
   "execution_count": 21,
   "metadata": {},
   "outputs": [
    {
     "data": {
      "text/plain": [
       "256"
      ]
     },
     "execution_count": 21,
     "metadata": {},
     "output_type": "execute_result"
    }
   ],
   "source": [
    "cmd = \"mv merged_at_lam0.pdb %s ; mv somd.pert %s ; mv somd.prm7 %s ; mv somd.rst7 %s ; mv somd.mapping %s ; rm somd.zip ; rm somd.cfg ; rm somd.err; rm somd.out\" % (mergedpdb,pert,prm7,rst7,mapping)\n",
    "#print (cmd)\n",
    "os.system(cmd)"
   ]
  },
  {
   "cell_type": "code",
   "execution_count": 23,
   "metadata": {},
   "outputs": [],
   "source": [
    "node.setOutput(\"nodeoutput\",[mergedpdb, pert, prm7, rst7, mapping])"
   ]
  },
  {
   "cell_type": "code",
   "execution_count": 24,
   "metadata": {},
   "outputs": [
    {
     "data": {
      "text/html": [
       "<a href='output.zip' target='_blank'>output.zip</a><br>"
      ],
      "text/plain": [
       "/mnt/vmshared/somd/qube-somd/amber-gaff/01-setup/scripts/output.zip"
      ]
     },
     "execution_count": 24,
     "metadata": {},
     "output_type": "execute_result"
    }
   ],
   "source": [
    "node.validate()"
   ]
  },
  {
   "cell_type": "code",
   "execution_count": null,
   "metadata": {},
   "outputs": [],
   "source": []
  }
 ],
 "metadata": {
  "kernelspec": {
   "display_name": "Python 3",
   "language": "python",
   "name": "python3"
  },
  "language_info": {
   "codemirror_mode": {
    "name": "ipython",
    "version": 3
   },
   "file_extension": ".py",
   "mimetype": "text/x-python",
   "name": "python",
   "nbconvert_exporter": "python",
   "pygments_lexer": "ipython3",
   "version": "3.5.5"
  }
 },
 "nbformat": 4,
 "nbformat_minor": 2
}
