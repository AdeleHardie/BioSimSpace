{
 "cells": [
  {
   "cell_type": "markdown",
   "metadata": {},
   "source": [
    "Author: Julien Michel\n",
    "email: julien.michel@ed.ac.uk\n",
    "\n",
    "# Combine\n",
    "\n",
    "Merge two input molecules into a single system"
   ]
  },
  {
   "cell_type": "code",
   "execution_count": 1,
   "metadata": {},
   "outputs": [],
   "source": [
    "import BioSimSpace as BSS"
   ]
  },
  {
   "cell_type": "code",
   "execution_count": 2,
   "metadata": {},
   "outputs": [],
   "source": [
    "node = BSS.Gateway.Node(\"A node to solvate a molecule ready for molecular simulation with AMBER.\")"
   ]
  },
  {
   "cell_type": "code",
   "execution_count": 3,
   "metadata": {},
   "outputs": [],
   "source": [
    "node.addAuthor(name=\"Julien Michel\", email=\"julien.michel@ed.ac.uk\", affiliation=\"University of Edinburgh\")\n",
    "node.setLicense(\"GPLv3\")"
   ]
  },
  {
   "cell_type": "code",
   "execution_count": 4,
   "metadata": {},
   "outputs": [
    {
     "name": "stdout",
     "output_type": "stream",
     "text": [
      "\n",
      "==============================================================\n",
      "Sending anonymous Sire usage statistics to http://siremol.org.\n",
      "For more information, see http://siremol.org/analytics\n",
      "To disable, set the environment variable 'SIRE_DONT_PHONEHOME' to 1\n",
      "To see the information sent, set the environment variable \n",
      "SIRE_VERBOSE_PHONEHOME equal to 1. To silence this message, set\n",
      "the environment variable SIRE_SILENT_PHONEHOME to 1.\n",
      "==============================================================\n",
      "\n"
     ]
    }
   ],
   "source": [
    "node.addInput(\"system1\", BSS.Gateway.FileSet(help=\"A topology and coordinates file describing system1\"))\n",
    "\n",
    "node.addInput(\"system2\", BSS.Gateway.FileSet(help=\"A topology and coordinates file describing system2\"))\n",
    "\n",
    "node.addInput(\"output\", BSS.Gateway.String(help=\"The root name of the combined system.\"))"
   ]
  },
  {
   "cell_type": "code",
   "execution_count": 5,
   "metadata": {},
   "outputs": [],
   "source": [
    "node.addOutput(\"nodeoutput\", BSS.Gateway.FileSet(help=\"The combined system\"))"
   ]
  },
  {
   "cell_type": "code",
   "execution_count": 6,
   "metadata": {},
   "outputs": [
    {
     "data": {
      "application/vnd.jupyter.widget-view+json": {
       "model_id": "dc4c38ab72f24752b731ef2c7a9ca658",
       "version_major": 2,
       "version_minor": 0
      },
      "text/plain": [
       "Box(children=(Box(children=(Box(children=(Label(value='system1: A topology and coordinates file describing sys…"
      ]
     },
     "metadata": {},
     "output_type": "display_data"
    },
    {
     "name": "stdout",
     "output_type": "stream",
     "text": [
      "Uploaded '12.prm7' (19.19 kB)\n",
      "Uploaded '12.rst7' (1.20 kB)\n",
      "Uploaded '14d.prm7' (18.08 kB)\n",
      "Uploaded '14d.rst7' (1.17 kB)\n"
     ]
    }
   ],
   "source": [
    "node.showControls()"
   ]
  },
  {
   "cell_type": "code",
   "execution_count": 7,
   "metadata": {},
   "outputs": [],
   "source": [
    "system1 = BSS.IO.readMolecules(node.getInput(\"system1\"))"
   ]
  },
  {
   "cell_type": "code",
   "execution_count": 8,
   "metadata": {},
   "outputs": [],
   "source": [
    "system2 = BSS.IO.readMolecules(node.getInput(\"system2\"))"
   ]
  },
  {
   "cell_type": "code",
   "execution_count": 9,
   "metadata": {},
   "outputs": [],
   "source": [
    "combined = system1 + system2"
   ]
  },
  {
   "cell_type": "code",
   "execution_count": null,
   "metadata": {},
   "outputs": [],
   "source": [
    "#print (combined)"
   ]
  },
  {
   "cell_type": "code",
   "execution_count": null,
   "metadata": {},
   "outputs": [],
   "source": [
    "#BSS.IO.saveMolecules(node.getInput(\"output\"), combined, [\"prm7\", \"rst7\"])"
   ]
  },
  {
   "cell_type": "code",
   "execution_count": 10,
   "metadata": {},
   "outputs": [],
   "source": [
    "node.setOutput(\"nodeoutput\", BSS.IO.saveMolecules(node.getInput(\"output\"), combined, [\"prm7\", \"rst7\"]))"
   ]
  },
  {
   "cell_type": "code",
   "execution_count": 11,
   "metadata": {},
   "outputs": [
    {
     "data": {
      "text/html": [
       "<a href='output.zip' target='_blank'>output.zip</a><br>"
      ],
      "text/plain": [
       "/mnt/vmshared/somd/qube-somd/amber-gaff/01-setup/scripts/output.zip"
      ]
     },
     "execution_count": 11,
     "metadata": {},
     "output_type": "execute_result"
    }
   ],
   "source": [
    "node.validate()"
   ]
  },
  {
   "cell_type": "code",
   "execution_count": null,
   "metadata": {},
   "outputs": [],
   "source": []
  }
 ],
 "metadata": {
  "kernelspec": {
   "display_name": "Python 3",
   "language": "python",
   "name": "python3"
  },
  "language_info": {
   "codemirror_mode": {
    "name": "ipython",
    "version": 3
   },
   "file_extension": ".py",
   "mimetype": "text/x-python",
   "name": "python",
   "nbconvert_exporter": "python",
   "pygments_lexer": "ipython3",
   "version": "3.5.5"
  }
 },
 "nbformat": 4,
 "nbformat_minor": 2
}
