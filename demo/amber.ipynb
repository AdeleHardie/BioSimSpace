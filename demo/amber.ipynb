{
 "cells": [
  {
   "cell_type": "markdown",
   "metadata": {},
   "source": [
    "# Running interactive AMBER simulations using BioSimSpace\n",
    "\n",
    "In this notebook you'll learn how to use BioSimSpace to run various molecular simulation protocols with AMBER. \n",
    "\n",
    "Before we get started, let's import all of the modules that will be required."
   ]
  },
  {
   "cell_type": "code",
   "execution_count": 1,
   "metadata": {},
   "outputs": [],
   "source": [
    "# Import BioSimSpace and rename it for convenience.\n",
    "import BioSimSpace as BSS\n",
    "\n",
    "# Import the handy glob function.\n",
    "from glob import glob\n",
    "\n",
    "# Import pyplot so we can plot some data.\n",
    "import matplotlib.pyplot as plt"
   ]
  },
  {
   "cell_type": "markdown",
   "metadata": {},
   "source": [
    "## Creating a molecular system\n",
    "\n",
    "First of all we need to load a molecular system. Some example input files are included in the `amber` directory. Let's load one of these:"
   ]
  },
  {
   "cell_type": "code",
   "execution_count": 2,
   "metadata": {},
   "outputs": [],
   "source": [
    "# Glob the input files.\n",
    "files = glob(\"amber/ala/*\")\n",
    "\n",
    "# Create a Sire molecular system.\n",
    "system = BSS.readMolecules(files)"
   ]
  },
  {
   "cell_type": "markdown",
   "metadata": {},
   "source": [
    "We have now created a molecular system. The system consists of an alanine dipeptide molecule in a box of water. To show the number of molecules in the system, run:"
   ]
  },
  {
   "cell_type": "code",
   "execution_count": 3,
   "metadata": {},
   "outputs": [
    {
     "data": {
      "text/plain": [
       "631"
      ]
     },
     "execution_count": 3,
     "metadata": {},
     "output_type": "execute_result"
    }
   ],
   "source": [
    "system.nMolecules()"
   ]
  },
  {
   "cell_type": "markdown",
   "metadata": {},
   "source": [
    "## Defining a simulation protocol\n",
    "\n",
    "BioSimSpace provides functionality for defining various simulation protocols. In this notebook we will construct a typical simulation workflow that uses a sequence of simple protocols, with the output of one forming the input of the next:\n",
    "\n",
    "1. _Minimisation:_ Energy minimisation the molecular system.\n",
    "2. _Equilibration:_ Equlibration of the system to a target temperature.\n",
    "3. _Production:_ Regular molecular dynamics, run at fixed temperature.\n",
    "\n",
    "When defining a protocol we are configuring the type of simulation that we wish to run, as well as any options for the particular simulation. For example, to create a default minimisation protocol:\n",
    "\n",
    "```python\n",
    "protocol = BSS.Protcol.Minimisation()\n",
    "```\n",
    "\n",
    "This defines a minimisation protocol that uses 10000 steps. For convenience, let's use 1000 steps. This can be achieved by passing the `steps` keyword argument to the constructor, i.e.:"
   ]
  },
  {
   "cell_type": "code",
   "execution_count": 4,
   "metadata": {},
   "outputs": [],
   "source": [
    "# Initialise a short minimisation protocol.\n",
    "protocol = BSS.Protocol.Minimisation(steps=1000)"
   ]
  },
  {
   "cell_type": "markdown",
   "metadata": {},
   "source": [
    "## Initialising a process\n",
    "\n",
    "We now have everything that is needed to create a process object. To do so, run:"
   ]
  },
  {
   "cell_type": "code",
   "execution_count": 6,
   "metadata": {},
   "outputs": [],
   "source": [
    "process = BSS.Process.Amber(system, protocol, name=\"minimise\")"
   ]
  },
  {
   "cell_type": "markdown",
   "metadata": {},
   "source": [
    "### Setting the executable\n",
    "\n",
    "On creation, BioSimSpace searches your `PATH` for an appropriate executable for running the process. The executable that is chosen may be dependent on the available hardware and type of workfow.\n",
    "\n",
    "To see the executable that was chosen, run:"
   ]
  },
  {
   "cell_type": "code",
   "execution_count": 7,
   "metadata": {},
   "outputs": [
    {
     "data": {
      "text/plain": [
       "'/home/lester/Downloads/amber16/bin/sander'"
      ]
     },
     "execution_count": 7,
     "metadata": {},
     "output_type": "execute_result"
    }
   ],
   "source": [
    "process.exe()"
   ]
  },
  {
   "cell_type": "markdown",
   "metadata": {},
   "source": [
    "To override the executable you can pass the `exe` keyword argument to the process constructor, e.g:\n",
    "\n",
    "```python\n",
    "process = BSS.Process.Amber(system, protocol, name=\"minimise\", exe=\"/path/to/custom/exe\")\n",
    "```\n",
    "\n",
    "### Setting the working directory\n",
    "\n",
    "By default, BioSimSpace runs each process inside a unique temporary workspace. This is where all of the input and configuration files will be created, as well as any of the output when the process is run.\n",
    "\n",
    "To view the working directory and the list of autogenerated input/configuration files, run:"
   ]
  },
  {
   "cell_type": "code",
   "execution_count": 10,
   "metadata": {},
   "outputs": [
    {
     "data": {
      "text/plain": [
       "'/tmp/tmpoi1v8bs1'"
      ]
     },
     "execution_count": 10,
     "metadata": {},
     "output_type": "execute_result"
    }
   ],
   "source": [
    "process.workDir()"
   ]
  },
  {
   "cell_type": "code",
   "execution_count": 11,
   "metadata": {},
   "outputs": [
    {
     "data": {
      "text/plain": [
       "['/tmp/tmpoi1v8bs1/minimise.amber',\n",
       " '/tmp/tmpoi1v8bs1/minimise.rst7',\n",
       " '/tmp/tmpoi1v8bs1/minimise.prm7']"
      ]
     },
     "execution_count": 11,
     "metadata": {},
     "output_type": "execute_result"
    }
   ],
   "source": [
    "process.inputFiles()"
   ]
  },
  {
   "cell_type": "markdown",
   "metadata": {},
   "source": [
    "When the process object is destroyed, the temporary working directory is deleted and all of the files will be lost. If you wish to specify a custom working directory, simply pass one using the `work_dir` keyword argument, e.g.:\n",
    "\n",
    "```python\n",
    "process = BSS.Process.Amber(system, protocol, name=\"minimise\", work_dir=\"/path/to/custom/work/dir\")\n",
    "```\n",
    "\n",
    "The directory will be created if it doesn't already exist (assuming write privileges on the path.)\n",
    "\n",
    "### Configuring the process\n",
    "\n",
    "For each protocol, BioSimSpace will initialise default configuration parameters appropriate to the process based on best practice in the field.\n",
    "\n",
    "To see the list of configuration parameter strings, run:"
   ]
  },
  {
   "cell_type": "code",
   "execution_count": 14,
   "metadata": {},
   "outputs": [
    {
     "data": {
      "text/plain": [
       "['Minimisation',\n",
       " ' &cntrl',\n",
       " '  imin=1,',\n",
       " '  ntx=1,',\n",
       " '  ntxo=1,',\n",
       " '  ntpr=100,',\n",
       " '  irest=0,',\n",
       " '  maxcyc=1000,',\n",
       " '  cut=8.0,',\n",
       " ' /']"
      ]
     },
     "execution_count": 14,
     "metadata": {},
     "output_type": "execute_result"
    }
   ],
   "source": [
    "process.getConfig()"
   ]
  },
  {
   "cell_type": "markdown",
   "metadata": {},
   "source": [
    "In some cases, it may be desirable to run a custom protocol. BioSimSpace provides several ways of acheiving this:\n",
    "\n",
    "* By passing a configuration file as the `protocol` keyword argument when creating a process:\n",
    "\n",
    "```python\n",
    "process = BSS.Process.Amber(system, protocol=\"my_config.txt\", name=\"minimise\")\n",
    "```\n",
    "\n",
    "* By setting the configuration of an existing process:\n",
    "\n",
    "```python\n",
    "# Set the configuration from file.\n",
    "process.setConfig(\"my_config.txt\")\n",
    "\n",
    "# Set the configuration using a list of configuration strings.\n",
    "my_config = [\"some config parameter string\", \"another config parameter string\"]\n",
    "process.setConfig(my_config)\n",
    "```\n",
    "\n",
    "* By adding to the configuration of an existing process:\n",
    "\n",
    "```python\n",
    "# Add using a configuration from file.\n",
    "process.addToConfig(\"my_config.txt\")\n",
    "\n",
    "# Add a list of parameter strings to the configuration.\n",
    "my_config = [\"some config parameter string\", \"another config parameter string\"]\n",
    "process.addToConfig(my_config)\n",
    "```\n",
    "\n",
    "### Configuring command-line arguments\n",
    "\n",
    "Where necessary, BioSimSpace will configure the command-line arguments needed to run the process.\n",
    "\n",
    "To view the command-line argument string, run:"
   ]
  },
  {
   "cell_type": "code",
   "execution_count": 15,
   "metadata": {},
   "outputs": [
    {
     "data": {
      "text/plain": [
       "'-O -i minimise.amber -p minimise.prm7 -c minimise.rst7 -o stdout -r minimise.restart.crd -inf minimise.nrg'"
      ]
     },
     "execution_count": 15,
     "metadata": {},
     "output_type": "execute_result"
    }
   ],
   "source": [
    "process.getArgString()"
   ]
  },
  {
   "cell_type": "markdown",
   "metadata": {},
   "source": [
    "The arguments are stored internally as an `OrderedDict` object. To view it, run:"
   ]
  },
  {
   "cell_type": "code",
   "execution_count": 16,
   "metadata": {},
   "outputs": [
    {
     "data": {
      "text/plain": [
       "OrderedDict([('-O', True),\n",
       "             ('-i', 'minimise.amber'),\n",
       "             ('-p', 'minimise.prm7'),\n",
       "             ('-c', 'minimise.rst7'),\n",
       "             ('-o', 'stdout'),\n",
       "             ('-r', 'minimise.restart.crd'),\n",
       "             ('-inf', 'minimise.nrg')])"
      ]
     },
     "execution_count": 16,
     "metadata": {},
     "output_type": "execute_result"
    }
   ],
   "source": [
    "process.getArgs()"
   ]
  },
  {
   "cell_type": "markdown",
   "metadata": {},
   "source": [
    "BioSimSpace provides functionality for setting and manipulating the arguments. For example, to disable the overwriting of output files:"
   ]
  },
  {
   "cell_type": "code",
   "execution_count": 19,
   "metadata": {},
   "outputs": [
    {
     "data": {
      "text/plain": [
       "'-i minimise.amber -p minimise.prm7 -c minimise.rst7 -o stdout -r minimise.restart.crd -inf minimise.nrg'"
      ]
     },
     "execution_count": 19,
     "metadata": {},
     "output_type": "execute_result"
    }
   ],
   "source": [
    "process.setArg('-O', False)\n",
    "process.getArgs()"
   ]
  },
  {
   "cell_type": "markdown",
   "metadata": {},
   "source": [
    "Let's see how the argument string changed:"
   ]
  },
  {
   "cell_type": "code",
   "execution_count": 20,
   "metadata": {},
   "outputs": [
    {
     "data": {
      "text/plain": [
       "'-i minimise.amber -p minimise.prm7 -c minimise.rst7 -o stdout -r minimise.restart.crd -inf minimise.nrg'"
      ]
     },
     "execution_count": 20,
     "metadata": {},
     "output_type": "execute_result"
    }
   ],
   "source": [
    "process.getArgString()"
   ]
  },
  {
   "cell_type": "markdown",
   "metadata": {},
   "source": [
    "The `setArg` method can be used to add a new argument, or to overwrite the value of an existing argument. There are several other methods that allow the arguments to be modified:\n",
    "\n",
    "* setArgs(args): Overwrite all arguments with a new dictionary.\n",
    "* addArgs(args): Append additional arguments.\n",
    "* insertArgs(arg, value, index): Insert an argument at a specific index.\n",
    "* deleteArg(arg): Delete an argument from the dictionary.\n",
    "* clearArgs(): Clear all of the arguments.\n",
    "\n",
    "If you ever get in trouble, it's easy to reset the arguments to their default values:"
   ]
  },
  {
   "cell_type": "code",
   "execution_count": 22,
   "metadata": {},
   "outputs": [
    {
     "data": {
      "text/plain": [
       "OrderedDict([('-O', True),\n",
       "             ('-i', 'minimise.amber'),\n",
       "             ('-p', 'minimise.prm7'),\n",
       "             ('-c', 'minimise.rst7'),\n",
       "             ('-o', 'stdout'),\n",
       "             ('-r', 'minimise.restart.crd'),\n",
       "             ('-inf', 'minimise.nrg')])"
      ]
     },
     "execution_count": 22,
     "metadata": {},
     "output_type": "execute_result"
    }
   ],
   "source": [
    "process.resetArgs()\n",
    "process.getArgs()"
   ]
  },
  {
   "cell_type": "markdown",
   "metadata": {},
   "source": [
    "## Running the minimisation process\n",
    "\n",
    "Having configured the process to your liking, it's time to run a simulation.\n",
    "\n",
    "To start the process, run:"
   ]
  },
  {
   "cell_type": "code",
   "execution_count": 32,
   "metadata": {},
   "outputs": [],
   "source": [
    "process.start()"
   ]
  },
  {
   "cell_type": "markdown",
   "metadata": {},
   "source": [
    "BioSimSpace has now launched a AMBER minimisation process in the background.\n",
    "\n",
    "To see if the process is still running:"
   ]
  },
  {
   "cell_type": "code",
   "execution_count": 45,
   "metadata": {},
   "outputs": [
    {
     "data": {
      "text/plain": [
       "False"
      ]
     },
     "execution_count": 45,
     "metadata": {},
     "output_type": "execute_result"
    }
   ],
   "source": [
    "process.isRunning()"
   ]
  },
  {
   "cell_type": "markdown",
   "metadata": {},
   "source": [
    "When the process has finished running we can see how many minutes it took to run."
   ]
  },
  {
   "cell_type": "code",
   "execution_count": 46,
   "metadata": {},
   "outputs": [
    {
     "data": {
      "text/plain": [
       "0.24231536428366476"
      ]
     },
     "execution_count": 46,
     "metadata": {},
     "output_type": "execute_result"
    }
   ],
   "source": [
    "process.runTime()"
   ]
  },
  {
   "cell_type": "markdown",
   "metadata": {},
   "source": [
    "We can also query the final energy of the molecular system (in kcal/mol):"
   ]
  },
  {
   "cell_type": "code",
   "execution_count": 47,
   "metadata": {},
   "outputs": [
    {
     "data": {
      "text/plain": [
       "-7422.4"
      ]
     },
     "execution_count": 47,
     "metadata": {},
     "output_type": "execute_result"
    }
   ],
   "source": [
    "process.getTotalEnergy()"
   ]
  },
  {
   "cell_type": "markdown",
   "metadata": {},
   "source": [
    "Fantastic, you've just run your first simulation using BioSimSpace!\n",
    "\n",
    "## Continuing the workflow\n",
    "\n",
    "### Minimisation\n",
    "\n",
    "Suppose we want to use our minimised molecular system as the input for a new equilibration protocol. First let's grab the most recent molecular system from the process. This will be the final configuration if the process has finished, or the most recent checkpoint."
   ]
  },
  {
   "cell_type": "code",
   "execution_count": 49,
   "metadata": {},
   "outputs": [],
   "source": [
    "minimised = process.getSystem()"
   ]
  },
  {
   "cell_type": "markdown",
   "metadata": {},
   "source": [
    "Perhaps we would like to save this configuration to file for future use. The following command will write the configuration to disc, using the same file format as the files that were used to generate the original system. The output shows the name of the files that were written."
   ]
  },
  {
   "cell_type": "code",
   "execution_count": 51,
   "metadata": {},
   "outputs": [
    {
     "data": {
      "text/plain": [
       "['/home/lester/Code/BioSimSpace/demo/minimised.prm7',\n",
       " '/home/lester/Code/BioSimSpace/demo/minimised.rst7']"
      ]
     },
     "execution_count": 51,
     "metadata": {},
     "output_type": "execute_result"
    }
   ],
   "source": [
    " BSS.saveMolecules(\"minimised\", minimised, system.fileFormat())"
   ]
  },
  {
   "cell_type": "markdown",
   "metadata": {},
   "source": [
    "Next, we'll create a short equilibration protocol. Let's heat the system from 0 to 300K over a period of 0.05 nanoseconds, restraining the positions of backbone atoms in the alanine dipeptide."
   ]
  },
  {
   "cell_type": "code",
   "execution_count": 53,
   "metadata": {},
   "outputs": [],
   "source": [
    "protocol = BSS.Protocol.Equilibration(runtime=0.05, temperature_start=0, temperature_end=300, restrain_backbone=True)"
   ]
  },
  {
   "cell_type": "markdown",
   "metadata": {},
   "source": [
    "We can now create a new process object using the minimised system and the equilibration protocol."
   ]
  },
  {
   "cell_type": "code",
   "execution_count": 54,
   "metadata": {},
   "outputs": [],
   "source": [
    "process = BSS.Process.Amber(minimised, protocol, name=\"equilibrate\")"
   ]
  },
  {
   "cell_type": "markdown",
   "metadata": {},
   "source": [
    "Let's check the configuration parameters for the process."
   ]
  },
  {
   "cell_type": "code",
   "execution_count": 55,
   "metadata": {},
   "outputs": [
    {
     "data": {
      "text/plain": [
       "['Equilibration.',\n",
       " ' &cntrl',\n",
       " '  ig=-1,',\n",
       " '  ntx=1,',\n",
       " '  ntxo=1,',\n",
       " '  ntpr=100,',\n",
       " '  ntwr=500,',\n",
       " '  irest=0,',\n",
       " '  dt=0.002,',\n",
       " '  nstlim=25001,',\n",
       " '  ntc=2,',\n",
       " '  ntf=2,',\n",
       " '  ntt=3,',\n",
       " '  gamma_ln=2,',\n",
       " '  cut=8.0,',\n",
       " '  ntp=1,',\n",
       " '  pres0=1.01325,',\n",
       " '  ntr=1,',\n",
       " '  restraint_wt = 2,',\n",
       " \"  restraintmask = '@CA,C,O,N',\",\n",
       " '  tempi=0.00,',\n",
       " '  temp0=300.00,',\n",
       " '  nmropt=1,',\n",
       " ' /',\n",
       " \"&wt TYPE='TEMP0', istep1=0, istep2=25001, value1=0.00, value2=300.00 /\",\n",
       " \"&wt TYPE='END' /\"]"
      ]
     },
     "execution_count": 55,
     "metadata": {},
     "output_type": "execute_result"
    }
   ],
   "source": [
    "process.getConfig()"
   ]
  },
  {
   "cell_type": "markdown",
   "metadata": {},
   "source": [
    "If everything looks okay, let's start the process:"
   ]
  },
  {
   "cell_type": "code",
   "execution_count": 56,
   "metadata": {},
   "outputs": [],
   "source": [
    "process.start()"
   ]
  },
  {
   "cell_type": "markdown",
   "metadata": {},
   "source": [
    "We can monitor the temperature and energy as the process runs."
   ]
  },
  {
   "cell_type": "code",
   "execution_count": 58,
   "metadata": {},
   "outputs": [
    {
     "ename": "TypeError",
     "evalue": "a float is required",
     "output_type": "error",
     "traceback": [
      "\u001b[0;31m---------------------------------------------------------------------------\u001b[0m",
      "\u001b[0;31mTypeError\u001b[0m                                 Traceback (most recent call last)",
      "\u001b[0;32m<ipython-input-58-922805663755>\u001b[0m in \u001b[0;36m<module>\u001b[0;34m()\u001b[0m\n\u001b[0;32m----> 1\u001b[0;31m \u001b[0mprint\u001b[0m\u001b[0;34m(\u001b[0m\u001b[0;34m\"%.2f K, %.2f kc/mol\"\u001b[0m \u001b[0;34m%\u001b[0m \u001b[0;34m(\u001b[0m\u001b[0mprocess\u001b[0m\u001b[0;34m.\u001b[0m\u001b[0mgetTemperature\u001b[0m\u001b[0;34m(\u001b[0m\u001b[0;34m)\u001b[0m\u001b[0;34m,\u001b[0m \u001b[0mprocess\u001b[0m\u001b[0;34m.\u001b[0m\u001b[0mgetTotalEnergy\u001b[0m\u001b[0;34m(\u001b[0m\u001b[0;34m)\u001b[0m\u001b[0;34m)\u001b[0m\u001b[0;34m)\u001b[0m\u001b[0;34m\u001b[0m\u001b[0m\n\u001b[0m",
      "\u001b[0;31mTypeError\u001b[0m: a float is required"
     ]
    }
   ],
   "source": [
    "print(\"%.2f K, %.2f kc/mol\" % (process.getTemperature(), process.getTotalEnergy()))"
   ]
  }
 ],
 "metadata": {
  "kernelspec": {
   "display_name": "Python 3",
   "language": "python",
   "name": "python3"
  },
  "language_info": {
   "codemirror_mode": {
    "name": "ipython",
    "version": 3
   },
   "file_extension": ".py",
   "mimetype": "text/x-python",
   "name": "python",
   "nbconvert_exporter": "python",
   "pygments_lexer": "ipython3",
   "version": "3.5.4"
  }
 },
 "nbformat": 4,
 "nbformat_minor": 2
}
